{
 "cells": [
  {
   "attachments": {
    "sqlite.jpeg": {
     "image/jpeg": "[encoded data removed]"
    }
   },
   "cell_type": "markdown",
   "id": "696f5010",
   "metadata": {},
   "source": [
    "![sqlite.jpeg](attachment:sqlite.jpeg)"
   ]
  },
  {
   "cell_type": "markdown",
   "id": "445241b2",
   "metadata": {},
   "source": [
    "# Exploratory Data Analysis with SQL\n",
    "\n",
    "This notebook uses the 120 years of Olympics History dataset from Kaggle.\n",
    "\n",
    "For the purpose of practice of SQL syntax the 1% of the dataset was sampled and loaded into a sqlite database file. Hence, the database table, **`athletes`**, has just 2169 rows unlike the original dataset."
   ]
  },
  {
   "cell_type": "markdown",
   "id": "2750ac10",
   "metadata": {},
   "source": [
    "#### List of Questions\n",
    "\n",
    "- How many olympics games have been held?\n",
    "- List down all Olympics games held so far.\n",
    "- Mention the total no of nations who participated in each olympics game?\n",
    "- Which year saw the highest and lowest no of countries participating in olympics?\n",
    "- Which nation has participated in all of the olympic games?\n",
    "- Identify the sport which was played in all summer olympics.\n",
    "- Which Sports were just played only once in the olympics?\n",
    "- Fetch the total no of sports played in each olympic games.\n",
    "- Fetch details of the oldest athletes to win a gold medal.\n",
    "- Find the Ratio of male and female athletes participated in all olympic games.\n"
   ]
  },
  {
   "cell_type": "markdown",
   "id": "0d6cbd3e",
   "metadata": {},
   "source": [
    "# Connect to SQLite DB"
   ]
  },
  {
   "cell_type": "code",
   "execution_count": 1,
   "id": "2c1f5600",
   "metadata": {},
   "outputs": [
    {
     "name": "stdout",
     "output_type": "stream",
     "text": [
      "Defaulting to user installation because normal site-packages is not writeable\n",
      "Requirement already satisfied: sqlalchemy in c:\\programdata\\anaconda3\\lib\\site-packages (1.4.32)\n",
      "Requirement already satisfied: greenlet!=0.4.17 in c:\\programdata\\anaconda3\\lib\\site-packages (from sqlalchemy) (1.1.1)\n",
      "Defaulting to user installation because normal site-packages is not writeable\n",
      "Requirement already satisfied: ipython-sql in c:\\users\\ejiof\\appdata\\roaming\\python\\python39\\site-packages (0.4.1)\n",
      "Requirement already satisfied: six in c:\\programdata\\anaconda3\\lib\\site-packages (from ipython-sql) (1.16.0)\n",
      "Requirement already satisfied: ipython-genutils>=0.1.0 in c:\\programdata\\anaconda3\\lib\\site-packages (from ipython-sql) (0.2.0)\n",
      "Requirement already satisfied: prettytable<1 in c:\\users\\ejiof\\appdata\\roaming\\python\\python39\\site-packages (from ipython-sql) (0.7.2)\n",
      "Requirement already satisfied: sqlparse in c:\\users\\ejiof\\appdata\\roaming\\python\\python39\\site-packages (from ipython-sql) (0.4.3)\n",
      "Requirement already satisfied: sqlalchemy>=0.6.7 in c:\\programdata\\anaconda3\\lib\\site-packages (from ipython-sql) (1.4.32)\n",
      "Requirement already satisfied: ipython>=1.0 in c:\\programdata\\anaconda3\\lib\\site-packages (from ipython-sql) (8.2.0)\n",
      "Requirement already satisfied: pickleshare in c:\\programdata\\anaconda3\\lib\\site-packages (from ipython>=1.0->ipython-sql) (0.7.5)\n",
      "Requirement already satisfied: prompt-toolkit!=3.0.0,!=3.0.1,<3.1.0,>=2.0.0 in c:\\programdata\\anaconda3\\lib\\site-packages (from ipython>=1.0->ipython-sql) (3.0.20)\n",
      "Requirement already satisfied: pygments>=2.4.0 in c:\\programdata\\anaconda3\\lib\\site-packages (from ipython>=1.0->ipython-sql) (2.11.2)\n",
      "Requirement already satisfied: stack-data in c:\\programdata\\anaconda3\\lib\\site-packages (from ipython>=1.0->ipython-sql) (0.2.0)\n",
      "Requirement already satisfied: matplotlib-inline in c:\\programdata\\anaconda3\\lib\\site-packages (from ipython>=1.0->ipython-sql) (0.1.2)\n",
      "Requirement already satisfied: colorama in c:\\programdata\\anaconda3\\lib\\site-packages (from ipython>=1.0->ipython-sql) (0.4.4)\n",
      "Requirement already satisfied: backcall in c:\\programdata\\anaconda3\\lib\\site-packages (from ipython>=1.0->ipython-sql) (0.2.0)\n",
      "Requirement already satisfied: traitlets>=5 in c:\\programdata\\anaconda3\\lib\\site-packages (from ipython>=1.0->ipython-sql) (5.1.1)\n",
      "Requirement already satisfied: decorator in c:\\programdata\\anaconda3\\lib\\site-packages (from ipython>=1.0->ipython-sql) (5.1.1)\n",
      "Requirement already satisfied: setuptools>=18.5 in c:\\programdata\\anaconda3\\lib\\site-packages (from ipython>=1.0->ipython-sql) (61.2.0)\n",
      "Requirement already satisfied: jedi>=0.16 in c:\\programdata\\anaconda3\\lib\\site-packages (from ipython>=1.0->ipython-sql) (0.18.1)\n",
      "Requirement already satisfied: parso<0.9.0,>=0.8.0 in c:\\programdata\\anaconda3\\lib\\site-packages (from jedi>=0.16->ipython>=1.0->ipython-sql) (0.8.3)\n",
      "Requirement already satisfied: wcwidth in c:\\programdata\\anaconda3\\lib\\site-packages (from prompt-toolkit!=3.0.0,!=3.0.1,<3.1.0,>=2.0.0->ipython>=1.0->ipython-sql) (0.2.5)\n",
      "Requirement already satisfied: greenlet!=0.4.17 in c:\\programdata\\anaconda3\\lib\\site-packages (from sqlalchemy>=0.6.7->ipython-sql) (1.1.1)\n",
      "Requirement already satisfied: pure-eval in c:\\programdata\\anaconda3\\lib\\site-packages (from stack-data->ipython>=1.0->ipython-sql) (0.2.2)\n",
      "Requirement already satisfied: asttokens in c:\\programdata\\anaconda3\\lib\\site-packages (from stack-data->ipython>=1.0->ipython-sql) (2.0.5)\n",
      "Requirement already satisfied: executing in c:\\programdata\\anaconda3\\lib\\site-packages (from stack-data->ipython>=1.0->ipython-sql) (0.8.3)\n"
     ]
    }
   ],
   "source": [
    "!pip install sqlalchemy\n",
    "!pip install ipython-sql"
   ]
  },
  {
   "cell_type": "code",
   "execution_count": 2,
   "id": "136fae3e",
   "metadata": {},
   "outputs": [],
   "source": [
    "%load_ext sql"
   ]
  },
  {
   "cell_type": "code",
   "execution_count": 3,
   "id": "bc806c61",
   "metadata": {},
   "outputs": [],
   "source": [
    "import csv, sqlite3"
   ]
  },
  {
   "cell_type": "code",
   "execution_count": 4,
   "id": "60e77881",
   "metadata": {},
   "outputs": [],
   "source": [
    "con = sqlite3.connect(\"athletes.db\")\n",
    "cur = con.cursor()"
   ]
  },
  {
   "cell_type": "code",
   "execution_count": 5,
   "id": "61e4c2ff",
   "metadata": {},
   "outputs": [],
   "source": [
    "%sql sqlite:///athletes.db"
   ]
  },
  {
   "cell_type": "code",
   "execution_count": 13,
   "id": "a8011d97",
   "metadata": {},
   "outputs": [
    {
     "name": "stdout",
     "output_type": "stream",
     "text": [
      " * sqlite:///athletes.db\n",
      "Done.\n"
     ]
    },
    {
     "data": {
      "text/html": [
       "<table>\n",
       "    <tr>\n",
       "        <th>ID</th>\n",
       "        <th>Name</th>\n",
       "        <th>Sex</th>\n",
       "        <th>Age</th>\n",
       "        <th>Height</th>\n",
       "        <th>Weight</th>\n",
       "        <th>Team</th>\n",
       "        <th>NOC</th>\n",
       "        <th>Games</th>\n",
       "        <th>Year</th>\n",
       "        <th>Season</th>\n",
       "        <th>City</th>\n",
       "        <th>Sport</th>\n",
       "        <th>Event</th>\n",
       "        <th>Medal</th>\n",
       "    </tr>\n",
       "    <tr>\n",
       "        <td>11592</td>\n",
       "        <td>Aranka Binder</td>\n",
       "        <td>F</td>\n",
       "        <td>26.0</td>\n",
       "        <td>163.0</td>\n",
       "        <td>47.0</td>\n",
       "        <td>Individual Olympic Athletes</td>\n",
       "        <td>IOA</td>\n",
       "        <td>1992 Summer</td>\n",
       "        <td>1992</td>\n",
       "        <td>Summer</td>\n",
       "        <td>Barcelona</td>\n",
       "        <td>Shooting</td>\n",
       "        <td>Shooting Women&#x27;s Air Rifle, 10 metres</td>\n",
       "        <td>Bronze</td>\n",
       "    </tr>\n",
       "    <tr>\n",
       "        <td>26774</td>\n",
       "        <td>Frederik Albert De Waele</td>\n",
       "        <td>M</td>\n",
       "        <td>33.0</td>\n",
       "        <td>None</td>\n",
       "        <td>None</td>\n",
       "        <td>Belgium</td>\n",
       "        <td>BEL</td>\n",
       "        <td>1952 Summer</td>\n",
       "        <td>1952</td>\n",
       "        <td>Summer</td>\n",
       "        <td>Helsinki</td>\n",
       "        <td>Gymnastics</td>\n",
       "        <td>Gymnastics Men&#x27;s Parallel Bars</td>\n",
       "        <td>None</td>\n",
       "    </tr>\n",
       "    <tr>\n",
       "        <td>132574</td>\n",
       "        <td>Yang Yun</td>\n",
       "        <td>F</td>\n",
       "        <td>15.0</td>\n",
       "        <td>158.0</td>\n",
       "        <td>40.0</td>\n",
       "        <td>China</td>\n",
       "        <td>CHN</td>\n",
       "        <td>2000 Summer</td>\n",
       "        <td>2000</td>\n",
       "        <td>Summer</td>\n",
       "        <td>Sydney</td>\n",
       "        <td>Gymnastics</td>\n",
       "        <td>Gymnastics Women&#x27;s Individual All-Around</td>\n",
       "        <td>None</td>\n",
       "    </tr>\n",
       "    <tr>\n",
       "        <td>73415</td>\n",
       "        <td>Jan Magiera</td>\n",
       "        <td>M</td>\n",
       "        <td>26.0</td>\n",
       "        <td>178.0</td>\n",
       "        <td>78.0</td>\n",
       "        <td>Poland</td>\n",
       "        <td>POL</td>\n",
       "        <td>1964 Summer</td>\n",
       "        <td>1964</td>\n",
       "        <td>Summer</td>\n",
       "        <td>Tokyo</td>\n",
       "        <td>Cycling</td>\n",
       "        <td>Cycling Men&#x27;s Road Race, Individual</td>\n",
       "        <td>None</td>\n",
       "    </tr>\n",
       "    <tr>\n",
       "        <td>64978</td>\n",
       "        <td>Ludwig Kng</td>\n",
       "        <td>M</td>\n",
       "        <td>26.0</td>\n",
       "        <td>172.0</td>\n",
       "        <td>68.0</td>\n",
       "        <td>Switzerland</td>\n",
       "        <td>SUI</td>\n",
       "        <td>1992 Summer</td>\n",
       "        <td>1992</td>\n",
       "        <td>Summer</td>\n",
       "        <td>Barcelona</td>\n",
       "        <td>Wrestling</td>\n",
       "        <td>Wrestling Men&#x27;s Lightweight, Freestyle</td>\n",
       "        <td>None</td>\n",
       "    </tr>\n",
       "</table>"
      ],
      "text/plain": [
       "[(11592, 'Aranka Binder', 'F', 26.0, 163.0, 47.0, 'Individual Olympic Athletes', 'IOA', '1992 Summer', 1992, 'Summer', 'Barcelona', 'Shooting', \"Shooting Women's Air Rifle, 10 metres\", 'Bronze'),\n",
       " (26774, 'Frederik Albert De Waele', 'M', 33.0, None, None, 'Belgium', 'BEL', '1952 Summer', 1952, 'Summer', 'Helsinki', 'Gymnastics', \"Gymnastics Men's Parallel Bars\", None),\n",
       " (132574, 'Yang Yun', 'F', 15.0, 158.0, 40.0, 'China', 'CHN', '2000 Summer', 2000, 'Summer', 'Sydney', 'Gymnastics', \"Gymnastics Women's Individual All-Around\", None),\n",
       " (73415, 'Jan Magiera', 'M', 26.0, 178.0, 78.0, 'Poland', 'POL', '1964 Summer', 1964, 'Summer', 'Tokyo', 'Cycling', \"Cycling Men's Road Race, Individual\", None),\n",
       " (64978, 'Ludwig Kng', 'M', 26.0, 172.0, 68.0, 'Switzerland', 'SUI', '1992 Summer', 1992, 'Summer', 'Barcelona', 'Wrestling', \"Wrestling Men's Lightweight, Freestyle\", None)]"
      ]
     },
     "execution_count": 13,
     "metadata": {},
     "output_type": "execute_result"
    }
   ],
   "source": [
    "%%sql\n",
    "\n",
    "SELECT * FROM athletes LIMIT 5;"
   ]
  },
  {
   "cell_type": "markdown",
   "id": "75dcc499",
   "metadata": {},
   "source": [
    "#### 1. How many olympics games have been held?"
   ]
  },
  {
   "cell_type": "code",
   "execution_count": 6,
   "id": "485bd408",
   "metadata": {},
   "outputs": [
    {
     "name": "stdout",
     "output_type": "stream",
     "text": [
      " * sqlite:///athletes.db\n",
      "Done.\n"
     ]
    },
    {
     "data": {
      "text/html": [
       "<table>\n",
       "    <tr>\n",
       "        <th>Num_of_Games</th>\n",
       "    </tr>\n",
       "    <tr>\n",
       "        <td>51</td>\n",
       "    </tr>\n",
       "</table>"
      ],
      "text/plain": [
       "[(51,)]"
      ]
     },
     "execution_count": 6,
     "metadata": {},
     "output_type": "execute_result"
    }
   ],
   "source": [
    "%%sql\n",
    "\n",
    "SELECT COUNT(DISTINCT Games) AS Num_of_Games \n",
    "FROM athletes;"
   ]
  },
  {
   "cell_type": "markdown",
   "id": "78445034",
   "metadata": {},
   "source": [
    "#### 2. List down all Olympics games held so far."
   ]
  },
  {
   "cell_type": "code",
   "execution_count": 7,
   "id": "28a47d81",
   "metadata": {},
   "outputs": [
    {
     "name": "stdout",
     "output_type": "stream",
     "text": [
      " * sqlite:///athletes.db\n",
      "Done.\n"
     ]
    },
    {
     "data": {
      "text/html": [
       "<table>\n",
       "    <tr>\n",
       "        <th>Games</th>\n",
       "    </tr>\n",
       "    <tr>\n",
       "        <td>1992 Summer</td>\n",
       "    </tr>\n",
       "    <tr>\n",
       "        <td>1952 Summer</td>\n",
       "    </tr>\n",
       "    <tr>\n",
       "        <td>2000 Summer</td>\n",
       "    </tr>\n",
       "    <tr>\n",
       "        <td>1964 Summer</td>\n",
       "    </tr>\n",
       "    <tr>\n",
       "        <td>1996 Summer</td>\n",
       "    </tr>\n",
       "    <tr>\n",
       "        <td>1932 Summer</td>\n",
       "    </tr>\n",
       "    <tr>\n",
       "        <td>1980 Summer</td>\n",
       "    </tr>\n",
       "    <tr>\n",
       "        <td>2004 Summer</td>\n",
       "    </tr>\n",
       "    <tr>\n",
       "        <td>1976 Summer</td>\n",
       "    </tr>\n",
       "    <tr>\n",
       "        <td>1924 Summer</td>\n",
       "    </tr>\n",
       "    <tr>\n",
       "        <td>1956 Summer</td>\n",
       "    </tr>\n",
       "    <tr>\n",
       "        <td>2012 Summer</td>\n",
       "    </tr>\n",
       "    <tr>\n",
       "        <td>1988 Winter</td>\n",
       "    </tr>\n",
       "    <tr>\n",
       "        <td>2006 Winter</td>\n",
       "    </tr>\n",
       "    <tr>\n",
       "        <td>2002 Winter</td>\n",
       "    </tr>\n",
       "    <tr>\n",
       "        <td>1928 Summer</td>\n",
       "    </tr>\n",
       "    <tr>\n",
       "        <td>1936 Summer</td>\n",
       "    </tr>\n",
       "    <tr>\n",
       "        <td>1920 Summer</td>\n",
       "    </tr>\n",
       "    <tr>\n",
       "        <td>1984 Summer</td>\n",
       "    </tr>\n",
       "    <tr>\n",
       "        <td>1912 Summer</td>\n",
       "    </tr>\n",
       "    <tr>\n",
       "        <td>1972 Summer</td>\n",
       "    </tr>\n",
       "    <tr>\n",
       "        <td>1948 Winter</td>\n",
       "    </tr>\n",
       "    <tr>\n",
       "        <td>1968 Summer</td>\n",
       "    </tr>\n",
       "    <tr>\n",
       "        <td>1960 Summer</td>\n",
       "    </tr>\n",
       "    <tr>\n",
       "        <td>1952 Winter</td>\n",
       "    </tr>\n",
       "    <tr>\n",
       "        <td>2008 Summer</td>\n",
       "    </tr>\n",
       "    <tr>\n",
       "        <td>1976 Winter</td>\n",
       "    </tr>\n",
       "    <tr>\n",
       "        <td>1998 Winter</td>\n",
       "    </tr>\n",
       "    <tr>\n",
       "        <td>1988 Summer</td>\n",
       "    </tr>\n",
       "    <tr>\n",
       "        <td>1896 Summer</td>\n",
       "    </tr>\n",
       "    <tr>\n",
       "        <td>1948 Summer</td>\n",
       "    </tr>\n",
       "    <tr>\n",
       "        <td>2010 Winter</td>\n",
       "    </tr>\n",
       "    <tr>\n",
       "        <td>1900 Summer</td>\n",
       "    </tr>\n",
       "    <tr>\n",
       "        <td>2016 Summer</td>\n",
       "    </tr>\n",
       "    <tr>\n",
       "        <td>1994 Winter</td>\n",
       "    </tr>\n",
       "    <tr>\n",
       "        <td>1992 Winter</td>\n",
       "    </tr>\n",
       "    <tr>\n",
       "        <td>1968 Winter</td>\n",
       "    </tr>\n",
       "    <tr>\n",
       "        <td>2014 Winter</td>\n",
       "    </tr>\n",
       "    <tr>\n",
       "        <td>1908 Summer</td>\n",
       "    </tr>\n",
       "    <tr>\n",
       "        <td>1964 Winter</td>\n",
       "    </tr>\n",
       "    <tr>\n",
       "        <td>1928 Winter</td>\n",
       "    </tr>\n",
       "    <tr>\n",
       "        <td>1972 Winter</td>\n",
       "    </tr>\n",
       "    <tr>\n",
       "        <td>1906 Summer</td>\n",
       "    </tr>\n",
       "    <tr>\n",
       "        <td>1936 Winter</td>\n",
       "    </tr>\n",
       "    <tr>\n",
       "        <td>1932 Winter</td>\n",
       "    </tr>\n",
       "    <tr>\n",
       "        <td>1924 Winter</td>\n",
       "    </tr>\n",
       "    <tr>\n",
       "        <td>1904 Summer</td>\n",
       "    </tr>\n",
       "    <tr>\n",
       "        <td>1980 Winter</td>\n",
       "    </tr>\n",
       "    <tr>\n",
       "        <td>1956 Winter</td>\n",
       "    </tr>\n",
       "    <tr>\n",
       "        <td>1984 Winter</td>\n",
       "    </tr>\n",
       "    <tr>\n",
       "        <td>1960 Winter</td>\n",
       "    </tr>\n",
       "</table>"
      ],
      "text/plain": [
       "[('1992 Summer',),\n",
       " ('1952 Summer',),\n",
       " ('2000 Summer',),\n",
       " ('1964 Summer',),\n",
       " ('1996 Summer',),\n",
       " ('1932 Summer',),\n",
       " ('1980 Summer',),\n",
       " ('2004 Summer',),\n",
       " ('1976 Summer',),\n",
       " ('1924 Summer',),\n",
       " ('1956 Summer',),\n",
       " ('2012 Summer',),\n",
       " ('1988 Winter',),\n",
       " ('2006 Winter',),\n",
       " ('2002 Winter',),\n",
       " ('1928 Summer',),\n",
       " ('1936 Summer',),\n",
       " ('1920 Summer',),\n",
       " ('1984 Summer',),\n",
       " ('1912 Summer',),\n",
       " ('1972 Summer',),\n",
       " ('1948 Winter',),\n",
       " ('1968 Summer',),\n",
       " ('1960 Summer',),\n",
       " ('1952 Winter',),\n",
       " ('2008 Summer',),\n",
       " ('1976 Winter',),\n",
       " ('1998 Winter',),\n",
       " ('1988 Summer',),\n",
       " ('1896 Summer',),\n",
       " ('1948 Summer',),\n",
       " ('2010 Winter',),\n",
       " ('1900 Summer',),\n",
       " ('2016 Summer',),\n",
       " ('1994 Winter',),\n",
       " ('1992 Winter',),\n",
       " ('1968 Winter',),\n",
       " ('2014 Winter',),\n",
       " ('1908 Summer',),\n",
       " ('1964 Winter',),\n",
       " ('1928 Winter',),\n",
       " ('1972 Winter',),\n",
       " ('1906 Summer',),\n",
       " ('1936 Winter',),\n",
       " ('1932 Winter',),\n",
       " ('1924 Winter',),\n",
       " ('1904 Summer',),\n",
       " ('1980 Winter',),\n",
       " ('1956 Winter',),\n",
       " ('1984 Winter',),\n",
       " ('1960 Winter',)]"
      ]
     },
     "execution_count": 7,
     "metadata": {},
     "output_type": "execute_result"
    }
   ],
   "source": [
    "%%sql\n",
    "\n",
    "SELECT DISTINCT Games\n",
    "FROM athletes;"
   ]
  },
  {
   "cell_type": "markdown",
   "id": "e05e5cf4",
   "metadata": {},
   "source": [
    "#### 3. Mention the total no of nations who participated in each olympics game?"
   ]
  },
  {
   "cell_type": "code",
   "execution_count": 8,
   "id": "08391095",
   "metadata": {},
   "outputs": [
    {
     "name": "stdout",
     "output_type": "stream",
     "text": [
      " * sqlite:///athletes.db\n",
      "Done.\n"
     ]
    },
    {
     "data": {
      "text/html": [
       "<table>\n",
       "    <tr>\n",
       "        <th>Games</th>\n",
       "        <th>Num_of_Nation</th>\n",
       "    </tr>\n",
       "    <tr>\n",
       "        <td>1896 Summer</td>\n",
       "        <td>3</td>\n",
       "    </tr>\n",
       "    <tr>\n",
       "        <td>1900 Summer</td>\n",
       "        <td>10</td>\n",
       "    </tr>\n",
       "    <tr>\n",
       "        <td>1904 Summer</td>\n",
       "        <td>3</td>\n",
       "    </tr>\n",
       "    <tr>\n",
       "        <td>1906 Summer</td>\n",
       "        <td>8</td>\n",
       "    </tr>\n",
       "    <tr>\n",
       "        <td>1908 Summer</td>\n",
       "        <td>13</td>\n",
       "    </tr>\n",
       "    <tr>\n",
       "        <td>1912 Summer</td>\n",
       "        <td>18</td>\n",
       "    </tr>\n",
       "    <tr>\n",
       "        <td>1920 Summer</td>\n",
       "        <td>15</td>\n",
       "    </tr>\n",
       "    <tr>\n",
       "        <td>1924 Summer</td>\n",
       "        <td>21</td>\n",
       "    </tr>\n",
       "    <tr>\n",
       "        <td>1924 Winter</td>\n",
       "        <td>3</td>\n",
       "    </tr>\n",
       "    <tr>\n",
       "        <td>1928 Summer</td>\n",
       "        <td>23</td>\n",
       "    </tr>\n",
       "    <tr>\n",
       "        <td>1928 Winter</td>\n",
       "        <td>6</td>\n",
       "    </tr>\n",
       "    <tr>\n",
       "        <td>1932 Summer</td>\n",
       "        <td>12</td>\n",
       "    </tr>\n",
       "    <tr>\n",
       "        <td>1932 Winter</td>\n",
       "        <td>2</td>\n",
       "    </tr>\n",
       "    <tr>\n",
       "        <td>1936 Summer</td>\n",
       "        <td>25</td>\n",
       "    </tr>\n",
       "    <tr>\n",
       "        <td>1936 Winter</td>\n",
       "        <td>5</td>\n",
       "    </tr>\n",
       "    <tr>\n",
       "        <td>1948 Summer</td>\n",
       "        <td>25</td>\n",
       "    </tr>\n",
       "    <tr>\n",
       "        <td>1948 Winter</td>\n",
       "        <td>5</td>\n",
       "    </tr>\n",
       "    <tr>\n",
       "        <td>1952 Summer</td>\n",
       "        <td>34</td>\n",
       "    </tr>\n",
       "    <tr>\n",
       "        <td>1952 Winter</td>\n",
       "        <td>9</td>\n",
       "    </tr>\n",
       "    <tr>\n",
       "        <td>1956 Summer</td>\n",
       "        <td>23</td>\n",
       "    </tr>\n",
       "    <tr>\n",
       "        <td>1956 Winter</td>\n",
       "        <td>9</td>\n",
       "    </tr>\n",
       "    <tr>\n",
       "        <td>1960 Summer</td>\n",
       "        <td>37</td>\n",
       "    </tr>\n",
       "    <tr>\n",
       "        <td>1960 Winter</td>\n",
       "        <td>9</td>\n",
       "    </tr>\n",
       "    <tr>\n",
       "        <td>1964 Summer</td>\n",
       "        <td>39</td>\n",
       "    </tr>\n",
       "    <tr>\n",
       "        <td>1964 Winter</td>\n",
       "        <td>16</td>\n",
       "    </tr>\n",
       "    <tr>\n",
       "        <td>1968 Summer</td>\n",
       "        <td>31</td>\n",
       "    </tr>\n",
       "    <tr>\n",
       "        <td>1968 Winter</td>\n",
       "        <td>14</td>\n",
       "    </tr>\n",
       "    <tr>\n",
       "        <td>1972 Summer</td>\n",
       "        <td>38</td>\n",
       "    </tr>\n",
       "    <tr>\n",
       "        <td>1972 Winter</td>\n",
       "        <td>14</td>\n",
       "    </tr>\n",
       "    <tr>\n",
       "        <td>1976 Summer</td>\n",
       "        <td>26</td>\n",
       "    </tr>\n",
       "    <tr>\n",
       "        <td>1976 Winter</td>\n",
       "        <td>14</td>\n",
       "    </tr>\n",
       "    <tr>\n",
       "        <td>1980 Summer</td>\n",
       "        <td>26</td>\n",
       "    </tr>\n",
       "    <tr>\n",
       "        <td>1980 Winter</td>\n",
       "        <td>7</td>\n",
       "    </tr>\n",
       "    <tr>\n",
       "        <td>1984 Summer</td>\n",
       "        <td>36</td>\n",
       "    </tr>\n",
       "    <tr>\n",
       "        <td>1984 Winter</td>\n",
       "        <td>13</td>\n",
       "    </tr>\n",
       "    <tr>\n",
       "        <td>1988 Summer</td>\n",
       "        <td>55</td>\n",
       "    </tr>\n",
       "    <tr>\n",
       "        <td>1988 Winter</td>\n",
       "        <td>14</td>\n",
       "    </tr>\n",
       "    <tr>\n",
       "        <td>1992 Summer</td>\n",
       "        <td>47</td>\n",
       "    </tr>\n",
       "    <tr>\n",
       "        <td>1992 Winter</td>\n",
       "        <td>14</td>\n",
       "    </tr>\n",
       "    <tr>\n",
       "        <td>1994 Winter</td>\n",
       "        <td>17</td>\n",
       "    </tr>\n",
       "    <tr>\n",
       "        <td>1996 Summer</td>\n",
       "        <td>49</td>\n",
       "    </tr>\n",
       "    <tr>\n",
       "        <td>1998 Winter</td>\n",
       "        <td>21</td>\n",
       "    </tr>\n",
       "    <tr>\n",
       "        <td>2000 Summer</td>\n",
       "        <td>46</td>\n",
       "    </tr>\n",
       "    <tr>\n",
       "        <td>2002 Winter</td>\n",
       "        <td>26</td>\n",
       "    </tr>\n",
       "    <tr>\n",
       "        <td>2004 Summer</td>\n",
       "        <td>54</td>\n",
       "    </tr>\n",
       "    <tr>\n",
       "        <td>2006 Winter</td>\n",
       "        <td>23</td>\n",
       "    </tr>\n",
       "    <tr>\n",
       "        <td>2008 Summer</td>\n",
       "        <td>48</td>\n",
       "    </tr>\n",
       "    <tr>\n",
       "        <td>2010 Winter</td>\n",
       "        <td>20</td>\n",
       "    </tr>\n",
       "    <tr>\n",
       "        <td>2012 Summer</td>\n",
       "        <td>54</td>\n",
       "    </tr>\n",
       "    <tr>\n",
       "        <td>2014 Winter</td>\n",
       "        <td>25</td>\n",
       "    </tr>\n",
       "    <tr>\n",
       "        <td>2016 Summer</td>\n",
       "        <td>64</td>\n",
       "    </tr>\n",
       "</table>"
      ],
      "text/plain": [
       "[('1896 Summer', 3),\n",
       " ('1900 Summer', 10),\n",
       " ('1904 Summer', 3),\n",
       " ('1906 Summer', 8),\n",
       " ('1908 Summer', 13),\n",
       " ('1912 Summer', 18),\n",
       " ('1920 Summer', 15),\n",
       " ('1924 Summer', 21),\n",
       " ('1924 Winter', 3),\n",
       " ('1928 Summer', 23),\n",
       " ('1928 Winter', 6),\n",
       " ('1932 Summer', 12),\n",
       " ('1932 Winter', 2),\n",
       " ('1936 Summer', 25),\n",
       " ('1936 Winter', 5),\n",
       " ('1948 Summer', 25),\n",
       " ('1948 Winter', 5),\n",
       " ('1952 Summer', 34),\n",
       " ('1952 Winter', 9),\n",
       " ('1956 Summer', 23),\n",
       " ('1956 Winter', 9),\n",
       " ('1960 Summer', 37),\n",
       " ('1960 Winter', 9),\n",
       " ('1964 Summer', 39),\n",
       " ('1964 Winter', 16),\n",
       " ('1968 Summer', 31),\n",
       " ('1968 Winter', 14),\n",
       " ('1972 Summer', 38),\n",
       " ('1972 Winter', 14),\n",
       " ('1976 Summer', 26),\n",
       " ('1976 Winter', 14),\n",
       " ('1980 Summer', 26),\n",
       " ('1980 Winter', 7),\n",
       " ('1984 Summer', 36),\n",
       " ('1984 Winter', 13),\n",
       " ('1988 Summer', 55),\n",
       " ('1988 Winter', 14),\n",
       " ('1992 Summer', 47),\n",
       " ('1992 Winter', 14),\n",
       " ('1994 Winter', 17),\n",
       " ('1996 Summer', 49),\n",
       " ('1998 Winter', 21),\n",
       " ('2000 Summer', 46),\n",
       " ('2002 Winter', 26),\n",
       " ('2004 Summer', 54),\n",
       " ('2006 Winter', 23),\n",
       " ('2008 Summer', 48),\n",
       " ('2010 Winter', 20),\n",
       " ('2012 Summer', 54),\n",
       " ('2014 Winter', 25),\n",
       " ('2016 Summer', 64)]"
      ]
     },
     "execution_count": 8,
     "metadata": {},
     "output_type": "execute_result"
    }
   ],
   "source": [
    "%%sql\n",
    "\n",
    "SELECT Games, COUNT(DISTINCT Team) AS Num_of_Nation\n",
    "FROM athletes\n",
    "GROUP BY Games;"
   ]
  },
  {
   "cell_type": "markdown",
   "id": "ee7ba2b4",
   "metadata": {},
   "source": [
    "#### 4. Which year saw the highest and lowest no of countries participating in olympics?"
   ]
  },
  {
   "cell_type": "code",
   "execution_count": 16,
   "id": "43e7962c",
   "metadata": {},
   "outputs": [
    {
     "name": "stdout",
     "output_type": "stream",
     "text": [
      " * sqlite:///athletes.db\n",
      "Done.\n"
     ]
    },
    {
     "data": {
      "text/html": [
       "<table>\n",
       "    <tr>\n",
       "        <th>Year</th>\n",
       "        <th>Total_Num_of_Countries</th>\n",
       "    </tr>\n",
       "    <tr>\n",
       "        <td>2016</td>\n",
       "        <td>64</td>\n",
       "    </tr>\n",
       "</table>"
      ],
      "text/plain": [
       "[(2016, 64)]"
      ]
     },
     "execution_count": 16,
     "metadata": {},
     "output_type": "execute_result"
    }
   ],
   "source": [
    "%%sql\n",
    "\n",
    "SELECT Year, COUNT(DISTINCT Team) AS Total_Num_of_Countries\n",
    "FROM athletes\n",
    "GROUP BY Year\n",
    "ORDER BY Total_Num_of_Countries DESC\n",
    "LIMIT 1;"
   ]
  },
  {
   "cell_type": "code",
   "execution_count": 17,
   "id": "d7ce59d5",
   "metadata": {},
   "outputs": [
    {
     "name": "stdout",
     "output_type": "stream",
     "text": [
      " * sqlite:///athletes.db\n",
      "Done.\n"
     ]
    },
    {
     "data": {
      "text/html": [
       "<table>\n",
       "    <tr>\n",
       "        <th>Year</th>\n",
       "        <th>Total_Num_of_Countries</th>\n",
       "    </tr>\n",
       "    <tr>\n",
       "        <td>1896</td>\n",
       "        <td>3</td>\n",
       "    </tr>\n",
       "</table>"
      ],
      "text/plain": [
       "[(1896, 3)]"
      ]
     },
     "execution_count": 17,
     "metadata": {},
     "output_type": "execute_result"
    }
   ],
   "source": [
    "%%sql\n",
    "\n",
    "SELECT Year, COUNT(DISTINCT Team) AS Total_Num_of_Countries\n",
    "FROM athletes\n",
    "GROUP BY Year\n",
    "ORDER BY Total_Num_of_Countries ASC\n",
    "LIMIT 1;"
   ]
  },
  {
   "cell_type": "markdown",
   "id": "0a8ad35d",
   "metadata": {},
   "source": [
    "### ANOTHER WAY OF GETTING THE MIN MAX"
   ]
  },
  {
   "cell_type": "code",
   "execution_count": 21,
   "id": "d5073f11",
   "metadata": {},
   "outputs": [
    {
     "name": "stdout",
     "output_type": "stream",
     "text": [
      " * sqlite:///athletes.db\n",
      "Done.\n"
     ]
    },
    {
     "data": {
      "text/html": [
       "<table>\n",
       "    <tr>\n",
       "        <th>Year</th>\n",
       "        <th>MAX(Total_Num_of_Countries)</th>\n",
       "    </tr>\n",
       "    <tr>\n",
       "        <td>2016</td>\n",
       "        <td>64</td>\n",
       "    </tr>\n",
       "</table>"
      ],
      "text/plain": [
       "[(2016, 64)]"
      ]
     },
     "execution_count": 21,
     "metadata": {},
     "output_type": "execute_result"
    }
   ],
   "source": [
    "%%sql\n",
    "\n",
    "SELECT Year, MAX(Total_Num_of_Countries)\n",
    "FROM\n",
    "    (SELECT Year, COUNT(DISTINCT Team) AS Total_Num_of_Countries\n",
    "    FROM athletes\n",
    "    GROUP BY Year);"
   ]
  },
  {
   "cell_type": "code",
   "execution_count": 22,
   "id": "61e6ecaa",
   "metadata": {},
   "outputs": [
    {
     "name": "stdout",
     "output_type": "stream",
     "text": [
      " * sqlite:///athletes.db\n",
      "Done.\n"
     ]
    },
    {
     "data": {
      "text/html": [
       "<table>\n",
       "    <tr>\n",
       "        <th>Year</th>\n",
       "        <th>MIN(Total_Num_of_Countries)</th>\n",
       "    </tr>\n",
       "    <tr>\n",
       "        <td>1896</td>\n",
       "        <td>3</td>\n",
       "    </tr>\n",
       "</table>"
      ],
      "text/plain": [
       "[(1896, 3)]"
      ]
     },
     "execution_count": 22,
     "metadata": {},
     "output_type": "execute_result"
    }
   ],
   "source": [
    "%%sql\n",
    "\n",
    "SELECT Year, MIN(Total_Num_of_Countries)\n",
    "FROM\n",
    "    (SELECT Year, COUNT(DISTINCT Team) AS Total_Num_of_Countries\n",
    "    FROM athletes\n",
    "    GROUP BY Year);"
   ]
  },
  {
   "cell_type": "markdown",
   "id": "0a5ac9df",
   "metadata": {},
   "source": [
    "#### 5. Fetch the total no of sports played in each olympic games."
   ]
  },
  {
   "cell_type": "code",
   "execution_count": 23,
   "id": "63ee18ad",
   "metadata": {},
   "outputs": [
    {
     "name": "stdout",
     "output_type": "stream",
     "text": [
      " * sqlite:///athletes.db\n",
      "Done.\n"
     ]
    },
    {
     "data": {
      "text/html": [
       "<table>\n",
       "    <tr>\n",
       "        <th>Games</th>\n",
       "        <th>Total_sport_played</th>\n",
       "    </tr>\n",
       "    <tr>\n",
       "        <td>1896 Summer</td>\n",
       "        <td>3</td>\n",
       "    </tr>\n",
       "    <tr>\n",
       "        <td>1900 Summer</td>\n",
       "        <td>13</td>\n",
       "    </tr>\n",
       "    <tr>\n",
       "        <td>1904 Summer</td>\n",
       "        <td>14</td>\n",
       "    </tr>\n",
       "    <tr>\n",
       "        <td>1906 Summer</td>\n",
       "        <td>10</td>\n",
       "    </tr>\n",
       "    <tr>\n",
       "        <td>1908 Summer</td>\n",
       "        <td>25</td>\n",
       "    </tr>\n",
       "    <tr>\n",
       "        <td>1912 Summer</td>\n",
       "        <td>28</td>\n",
       "    </tr>\n",
       "    <tr>\n",
       "        <td>1920 Summer</td>\n",
       "        <td>35</td>\n",
       "    </tr>\n",
       "    <tr>\n",
       "        <td>1924 Summer</td>\n",
       "        <td>45</td>\n",
       "    </tr>\n",
       "    <tr>\n",
       "        <td>1924 Winter</td>\n",
       "        <td>3</td>\n",
       "    </tr>\n",
       "    <tr>\n",
       "        <td>1928 Summer</td>\n",
       "        <td>46</td>\n",
       "    </tr>\n",
       "    <tr>\n",
       "        <td>1928 Winter</td>\n",
       "        <td>8</td>\n",
       "    </tr>\n",
       "    <tr>\n",
       "        <td>1932 Summer</td>\n",
       "        <td>22</td>\n",
       "    </tr>\n",
       "    <tr>\n",
       "        <td>1932 Winter</td>\n",
       "        <td>2</td>\n",
       "    </tr>\n",
       "    <tr>\n",
       "        <td>1936 Summer</td>\n",
       "        <td>61</td>\n",
       "    </tr>\n",
       "    <tr>\n",
       "        <td>1936 Winter</td>\n",
       "        <td>6</td>\n",
       "    </tr>\n",
       "    <tr>\n",
       "        <td>1948 Summer</td>\n",
       "        <td>64</td>\n",
       "    </tr>\n",
       "    <tr>\n",
       "        <td>1948 Winter</td>\n",
       "        <td>6</td>\n",
       "    </tr>\n",
       "    <tr>\n",
       "        <td>1952 Summer</td>\n",
       "        <td>70</td>\n",
       "    </tr>\n",
       "    <tr>\n",
       "        <td>1952 Winter</td>\n",
       "        <td>13</td>\n",
       "    </tr>\n",
       "    <tr>\n",
       "        <td>1956 Summer</td>\n",
       "        <td>39</td>\n",
       "    </tr>\n",
       "    <tr>\n",
       "        <td>1956 Winter</td>\n",
       "        <td>10</td>\n",
       "    </tr>\n",
       "    <tr>\n",
       "        <td>1960 Summer</td>\n",
       "        <td>68</td>\n",
       "    </tr>\n",
       "    <tr>\n",
       "        <td>1960 Winter</td>\n",
       "        <td>10</td>\n",
       "    </tr>\n",
       "    <tr>\n",
       "        <td>1964 Summer</td>\n",
       "        <td>75</td>\n",
       "    </tr>\n",
       "    <tr>\n",
       "        <td>1964 Winter</td>\n",
       "        <td>20</td>\n",
       "    </tr>\n",
       "    <tr>\n",
       "        <td>1968 Summer</td>\n",
       "        <td>65</td>\n",
       "    </tr>\n",
       "    <tr>\n",
       "        <td>1968 Winter</td>\n",
       "        <td>15</td>\n",
       "    </tr>\n",
       "    <tr>\n",
       "        <td>1972 Summer</td>\n",
       "        <td>94</td>\n",
       "    </tr>\n",
       "    <tr>\n",
       "        <td>1972 Winter</td>\n",
       "        <td>17</td>\n",
       "    </tr>\n",
       "    <tr>\n",
       "        <td>1976 Summer</td>\n",
       "        <td>59</td>\n",
       "    </tr>\n",
       "    <tr>\n",
       "        <td>1976 Winter</td>\n",
       "        <td>15</td>\n",
       "    </tr>\n",
       "    <tr>\n",
       "        <td>1980 Summer</td>\n",
       "        <td>56</td>\n",
       "    </tr>\n",
       "    <tr>\n",
       "        <td>1980 Winter</td>\n",
       "        <td>9</td>\n",
       "    </tr>\n",
       "    <tr>\n",
       "        <td>1984 Summer</td>\n",
       "        <td>66</td>\n",
       "    </tr>\n",
       "    <tr>\n",
       "        <td>1984 Winter</td>\n",
       "        <td>14</td>\n",
       "    </tr>\n",
       "    <tr>\n",
       "        <td>1988 Summer</td>\n",
       "        <td>106</td>\n",
       "    </tr>\n",
       "    <tr>\n",
       "        <td>1988 Winter</td>\n",
       "        <td>18</td>\n",
       "    </tr>\n",
       "    <tr>\n",
       "        <td>1992 Summer</td>\n",
       "        <td>89</td>\n",
       "    </tr>\n",
       "    <tr>\n",
       "        <td>1992 Winter</td>\n",
       "        <td>22</td>\n",
       "    </tr>\n",
       "    <tr>\n",
       "        <td>1994 Winter</td>\n",
       "        <td>22</td>\n",
       "    </tr>\n",
       "    <tr>\n",
       "        <td>1996 Summer</td>\n",
       "        <td>106</td>\n",
       "    </tr>\n",
       "    <tr>\n",
       "        <td>1998 Winter</td>\n",
       "        <td>30</td>\n",
       "    </tr>\n",
       "    <tr>\n",
       "        <td>2000 Summer</td>\n",
       "        <td>88</td>\n",
       "    </tr>\n",
       "    <tr>\n",
       "        <td>2002 Winter</td>\n",
       "        <td>37</td>\n",
       "    </tr>\n",
       "    <tr>\n",
       "        <td>2004 Summer</td>\n",
       "        <td>108</td>\n",
       "    </tr>\n",
       "    <tr>\n",
       "        <td>2006 Winter</td>\n",
       "        <td>34</td>\n",
       "    </tr>\n",
       "    <tr>\n",
       "        <td>2008 Summer</td>\n",
       "        <td>97</td>\n",
       "    </tr>\n",
       "    <tr>\n",
       "        <td>2010 Winter</td>\n",
       "        <td>32</td>\n",
       "    </tr>\n",
       "    <tr>\n",
       "        <td>2012 Summer</td>\n",
       "        <td>103</td>\n",
       "    </tr>\n",
       "    <tr>\n",
       "        <td>2014 Winter</td>\n",
       "        <td>46</td>\n",
       "    </tr>\n",
       "    <tr>\n",
       "        <td>2016 Summer</td>\n",
       "        <td>125</td>\n",
       "    </tr>\n",
       "</table>"
      ],
      "text/plain": [
       "[('1896 Summer', 3),\n",
       " ('1900 Summer', 13),\n",
       " ('1904 Summer', 14),\n",
       " ('1906 Summer', 10),\n",
       " ('1908 Summer', 25),\n",
       " ('1912 Summer', 28),\n",
       " ('1920 Summer', 35),\n",
       " ('1924 Summer', 45),\n",
       " ('1924 Winter', 3),\n",
       " ('1928 Summer', 46),\n",
       " ('1928 Winter', 8),\n",
       " ('1932 Summer', 22),\n",
       " ('1932 Winter', 2),\n",
       " ('1936 Summer', 61),\n",
       " ('1936 Winter', 6),\n",
       " ('1948 Summer', 64),\n",
       " ('1948 Winter', 6),\n",
       " ('1952 Summer', 70),\n",
       " ('1952 Winter', 13),\n",
       " ('1956 Summer', 39),\n",
       " ('1956 Winter', 10),\n",
       " ('1960 Summer', 68),\n",
       " ('1960 Winter', 10),\n",
       " ('1964 Summer', 75),\n",
       " ('1964 Winter', 20),\n",
       " ('1968 Summer', 65),\n",
       " ('1968 Winter', 15),\n",
       " ('1972 Summer', 94),\n",
       " ('1972 Winter', 17),\n",
       " ('1976 Summer', 59),\n",
       " ('1976 Winter', 15),\n",
       " ('1980 Summer', 56),\n",
       " ('1980 Winter', 9),\n",
       " ('1984 Summer', 66),\n",
       " ('1984 Winter', 14),\n",
       " ('1988 Summer', 106),\n",
       " ('1988 Winter', 18),\n",
       " ('1992 Summer', 89),\n",
       " ('1992 Winter', 22),\n",
       " ('1994 Winter', 22),\n",
       " ('1996 Summer', 106),\n",
       " ('1998 Winter', 30),\n",
       " ('2000 Summer', 88),\n",
       " ('2002 Winter', 37),\n",
       " ('2004 Summer', 108),\n",
       " ('2006 Winter', 34),\n",
       " ('2008 Summer', 97),\n",
       " ('2010 Winter', 32),\n",
       " ('2012 Summer', 103),\n",
       " ('2014 Winter', 46),\n",
       " ('2016 Summer', 125)]"
      ]
     },
     "execution_count": 23,
     "metadata": {},
     "output_type": "execute_result"
    }
   ],
   "source": [
    "%%sql\n",
    "\n",
    "SELECT Games, COUNT(Sport) AS Total_sport_played\n",
    "FROM athletes\n",
    "GROUP BY Games;"
   ]
  },
  {
   "cell_type": "markdown",
   "id": "8fef992a",
   "metadata": {},
   "source": [
    "#### 6. Fetch details of the oldest athletes to win a gold medal."
   ]
  },
  {
   "cell_type": "code",
   "execution_count": 26,
   "id": "206f1878",
   "metadata": {},
   "outputs": [
    {
     "name": "stdout",
     "output_type": "stream",
     "text": [
      " * sqlite:///athletes.db\n",
      "Done.\n"
     ]
    },
    {
     "data": {
      "text/html": [
       "<table>\n",
       "    <tr>\n",
       "        <th>ID</th>\n",
       "        <th>Name</th>\n",
       "        <th>Sex</th>\n",
       "        <th>Age</th>\n",
       "        <th>Height</th>\n",
       "        <th>Weight</th>\n",
       "        <th>Team</th>\n",
       "        <th>NOC</th>\n",
       "        <th>Games</th>\n",
       "        <th>Year</th>\n",
       "        <th>Season</th>\n",
       "        <th>City</th>\n",
       "        <th>Sport</th>\n",
       "        <th>Event</th>\n",
       "        <th>Medal</th>\n",
       "    </tr>\n",
       "    <tr>\n",
       "        <td>57371</td>\n",
       "        <td>Franz Kapus</td>\n",
       "        <td>M</td>\n",
       "        <td>46.0</td>\n",
       "        <td>188.0</td>\n",
       "        <td>92.0</td>\n",
       "        <td>Switzerland-1</td>\n",
       "        <td>SUI</td>\n",
       "        <td>1956 Winter</td>\n",
       "        <td>1956</td>\n",
       "        <td>Winter</td>\n",
       "        <td>Cortina d&#x27;Ampezzo</td>\n",
       "        <td>Bobsleigh</td>\n",
       "        <td>Bobsleigh Men&#x27;s Four</td>\n",
       "        <td>Gold</td>\n",
       "    </tr>\n",
       "</table>"
      ],
      "text/plain": [
       "[(57371, 'Franz Kapus', 'M', 46.0, 188.0, 92.0, 'Switzerland-1', 'SUI', '1956 Winter', 1956, 'Winter', \"Cortina d'Ampezzo\", 'Bobsleigh', \"Bobsleigh Men's Four\", 'Gold')]"
      ]
     },
     "execution_count": 26,
     "metadata": {},
     "output_type": "execute_result"
    }
   ],
   "source": [
    "%%sql\n",
    "\n",
    "SELECT * \n",
    "FROM athletes\n",
    "WHERE Medal = \"Gold\"\n",
    "ORDER BY Age DESC\n",
    "LIMIT 1;"
   ]
  },
  {
   "cell_type": "markdown",
   "id": "44aad3dd",
   "metadata": {},
   "source": [
    "### ANOTHER WAY OF DOING IT USING SUB-QUERY"
   ]
  },
  {
   "cell_type": "code",
   "execution_count": 27,
   "id": "645981a0",
   "metadata": {},
   "outputs": [
    {
     "name": "stdout",
     "output_type": "stream",
     "text": [
      " * sqlite:///athletes.db\n",
      "Done.\n"
     ]
    },
    {
     "data": {
      "text/html": [
       "<table>\n",
       "    <tr>\n",
       "        <th>ID</th>\n",
       "        <th>Name</th>\n",
       "        <th>Sex</th>\n",
       "        <th>Age</th>\n",
       "        <th>Height</th>\n",
       "        <th>Weight</th>\n",
       "        <th>Team</th>\n",
       "        <th>NOC</th>\n",
       "        <th>Games</th>\n",
       "        <th>Year</th>\n",
       "        <th>Season</th>\n",
       "        <th>City</th>\n",
       "        <th>Sport</th>\n",
       "        <th>Event</th>\n",
       "        <th>Medal</th>\n",
       "    </tr>\n",
       "    <tr>\n",
       "        <td>57371</td>\n",
       "        <td>Franz Kapus</td>\n",
       "        <td>M</td>\n",
       "        <td>46.0</td>\n",
       "        <td>188.0</td>\n",
       "        <td>92.0</td>\n",
       "        <td>Switzerland-1</td>\n",
       "        <td>SUI</td>\n",
       "        <td>1956 Winter</td>\n",
       "        <td>1956</td>\n",
       "        <td>Winter</td>\n",
       "        <td>Cortina d&#x27;Ampezzo</td>\n",
       "        <td>Bobsleigh</td>\n",
       "        <td>Bobsleigh Men&#x27;s Four</td>\n",
       "        <td>Gold</td>\n",
       "    </tr>\n",
       "</table>"
      ],
      "text/plain": [
       "[(57371, 'Franz Kapus', 'M', 46.0, 188.0, 92.0, 'Switzerland-1', 'SUI', '1956 Winter', 1956, 'Winter', \"Cortina d'Ampezzo\", 'Bobsleigh', \"Bobsleigh Men's Four\", 'Gold')]"
      ]
     },
     "execution_count": 27,
     "metadata": {},
     "output_type": "execute_result"
    }
   ],
   "source": [
    "%%sql\n",
    "\n",
    "SELECT *\n",
    "FROM (SELECT * \n",
    "    FROM athletes\n",
    "    WHERE Medal = \"Gold\")\n",
    "ORDER BY Age DESC\n",
    "LIMIT 1;\n"
   ]
  },
  {
   "cell_type": "markdown",
   "id": "f1162e6b",
   "metadata": {},
   "source": [
    "#### 7. Find the Ratio of male and female athletes participated in all olympic games."
   ]
  },
  {
   "cell_type": "code",
   "execution_count": 29,
   "id": "6b7f6499",
   "metadata": {},
   "outputs": [
    {
     "name": "stdout",
     "output_type": "stream",
     "text": [
      " * sqlite:///athletes.db\n",
      "Done.\n"
     ]
    },
    {
     "data": {
      "text/html": [
       "<table>\n",
       "    <tr>\n",
       "        <th>Sex</th>\n",
       "        <th>Count_of_athletes</th>\n",
       "    </tr>\n",
       "    <tr>\n",
       "        <td>F</td>\n",
       "        <td>657</td>\n",
       "    </tr>\n",
       "    <tr>\n",
       "        <td>M</td>\n",
       "        <td>1512</td>\n",
       "    </tr>\n",
       "</table>"
      ],
      "text/plain": [
       "[('F', 657), ('M', 1512)]"
      ]
     },
     "execution_count": 29,
     "metadata": {},
     "output_type": "execute_result"
    }
   ],
   "source": [
    "%%sql\n",
    "\n",
    "SELECT Sex, COUNT(*) AS Count_of_athletes\n",
    "FROM athletes\n",
    "GROUP BY Sex;"
   ]
  },
  {
   "cell_type": "markdown",
   "id": "6ffa2d99",
   "metadata": {},
   "source": [
    "#### 8. How many Gold medals were won during Summer and Winter seasons?"
   ]
  },
  {
   "cell_type": "code",
   "execution_count": 30,
   "id": "45c1e7ac",
   "metadata": {},
   "outputs": [
    {
     "name": "stdout",
     "output_type": "stream",
     "text": [
      " * sqlite:///athletes.db\n",
      "Done.\n"
     ]
    },
    {
     "data": {
      "text/html": [
       "<table>\n",
       "    <tr>\n",
       "        <th>Season</th>\n",
       "        <th>Gold_Medals</th>\n",
       "    </tr>\n",
       "    <tr>\n",
       "        <td>Summer</td>\n",
       "        <td>90</td>\n",
       "    </tr>\n",
       "    <tr>\n",
       "        <td>Winter</td>\n",
       "        <td>14</td>\n",
       "    </tr>\n",
       "</table>"
      ],
      "text/plain": [
       "[('Summer', 90), ('Winter', 14)]"
      ]
     },
     "execution_count": 30,
     "metadata": {},
     "output_type": "execute_result"
    }
   ],
   "source": [
    "%%sql\n",
    "\n",
    "SELECT Season, COUNT(*) AS Gold_Medals\n",
    "FROM athletes\n",
    "WHERE Medal = \"Gold\"\n",
    "GROUP BY Season;\n"
   ]
  },
  {
   "cell_type": "markdown",
   "id": "93636035",
   "metadata": {},
   "source": [
    "#### 9. What is the age of the heaviest athlete?"
   ]
  },
  {
   "cell_type": "code",
   "execution_count": 31,
   "id": "9dc81234",
   "metadata": {},
   "outputs": [
    {
     "name": "stdout",
     "output_type": "stream",
     "text": [
      " * sqlite:///athletes.db\n",
      "Done.\n"
     ]
    },
    {
     "data": {
      "text/html": [
       "<table>\n",
       "    <tr>\n",
       "        <th>Age</th>\n",
       "        <th>MAX(Weight)</th>\n",
       "    </tr>\n",
       "    <tr>\n",
       "        <td>25.0</td>\n",
       "        <td>161.0</td>\n",
       "    </tr>\n",
       "</table>"
      ],
      "text/plain": [
       "[(25.0, 161.0)]"
      ]
     },
     "execution_count": 31,
     "metadata": {},
     "output_type": "execute_result"
    }
   ],
   "source": [
    "%%sql\n",
    "\n",
    "SELECT *\n",
    "FROM\n",
    "    (SELECT Age, MAX(Weight)\n",
    "    FROM athletes);\n"
   ]
  },
  {
   "cell_type": "markdown",
   "id": "80a4fd1a",
   "metadata": {},
   "source": [
    "#### 10. What team won the most Gold medals?"
   ]
  },
  {
   "cell_type": "code",
   "execution_count": 43,
   "id": "226f6947",
   "metadata": {},
   "outputs": [
    {
     "name": "stdout",
     "output_type": "stream",
     "text": [
      " * sqlite:///athletes.db\n",
      "Done.\n"
     ]
    },
    {
     "data": {
      "text/html": [
       "<table>\n",
       "    <tr>\n",
       "        <th>Team</th>\n",
       "        <th>Gold_count</th>\n",
       "    </tr>\n",
       "    <tr>\n",
       "        <td>United States</td>\n",
       "        <td>7</td>\n",
       "    </tr>\n",
       "</table>"
      ],
      "text/plain": [
       "[('United States', 7)]"
      ]
     },
     "execution_count": 43,
     "metadata": {},
     "output_type": "execute_result"
    }
   ],
   "source": [
    "%%sql\n",
    "\n",
    "SELECT Team, COUNT(Medal) AS Gold_count\n",
    "FROM athletes\n",
    "WHERE Medal = \"Gold\"\n",
    "GROUP BY Team\n",
    "ORDER BY Gold_count DESC\n",
    "LIMIT 1;"
   ]
  },
  {
   "cell_type": "markdown",
   "id": "28fd86dc",
   "metadata": {},
   "source": [
    "<div class=\"alert alert-block alert-danger\">\n",
    "    <h1>CLOSE DB CONNECTION!!!</h1>\n",
    "</div>"
   ]
  },
  {
   "cell_type": "code",
   "execution_count": 44,
   "id": "cabd3487",
   "metadata": {},
   "outputs": [],
   "source": [
    "con.close()"
   ]
  },
  {
   "cell_type": "code",
   "execution_count": null,
   "id": "ea4fb959",
   "metadata": {},
   "outputs": [],
   "source": []
  },
  {
   "cell_type": "code",
   "execution_count": null,
   "id": "115203f7",
   "metadata": {},
   "outputs": [],
   "source": []
  },
  {
   "cell_type": "code",
   "execution_count": null,
   "id": "15bea5a0",
   "metadata": {},
   "outputs": [],
   "source": []
  }
 ],
 "metadata": {
  "kernelspec": {
   "display_name": "Python 3 (ipykernel)",
   "language": "python",
   "name": "python3"
  },
  "language_info": {
   "codemirror_mode": {
    "name": "ipython",
    "version": 3
   },
   "file_extension": ".py",
   "mimetype": "text/x-python",
   "name": "python",
   "nbconvert_exporter": "python",
   "pygments_lexer": "ipython3",
   "version": "3.9.12"
  }
 },
 "nbformat": 4,
 "nbformat_minor": 5
}
